{
 "cells": [
  {
   "cell_type": "code",
   "execution_count": null,
   "metadata": {},
   "outputs": [],
   "source": [
    "import secrets\n",
    "import binascii\n",
    "from Crypto.Cipher import AES\n",
    "import Crypto.Random as Crypto_Random\n",
    "\n",
    "\n",
    "master_key = Crypto_Random.get_random_bytes(16)\n",
    "key = Crypto_Random.get_random_bytes(16)\n",
    "\n",
    "master_key = secrets.token_bytes(16)\n",
    "key = secrets.token_bytes(16)\n",
    "\n",
    "print(binascii.hexlify(master_key).decode())\n",
    "print(binascii.hexlify(key).decode())\n",
    "\n",
    "print(len(binascii.hexlify(master_key).decode()))\n",
    "print(len(binascii.hexlify(key).decode()))\n",
    "\n",
    "encryptor = AES.new(master_key, AES.MODE_ECB)\n",
    "encrypted_key = encryptor.encrypt(key)\n",
    "print(encrypted_key)\n",
    "\n",
    "# Calculate the number of bits\n",
    "encrypted_key_length_bits = len(encrypted_key) * 8\n",
    "\n",
    "print(f\"The encrypted_key is {encrypted_key_length_bits} bits long.\")\n",
    "\n",
    "# Convert the encrypted_key to a hex string\n",
    "print(binascii.hexlify(encrypted_key).decode('utf-8'))\n",
    "print(len(binascii.hexlify(encrypted_key).decode('utf-8')))\n",
    "\n",
    "# print(len(binascii.hexlify(encrypted_key).decode('utf-8')))"
   ]
  },
  {
   "cell_type": "code",
   "execution_count": null,
   "metadata": {},
   "outputs": [],
   "source": [
    "print(len(\"c5781140b2420fb6caa42d3cdc296bad\"))"
   ]
  },
  {
   "cell_type": "code",
   "execution_count": null,
   "metadata": {},
   "outputs": [],
   "source": [
    "key = secrets.token_bytes(16)\n",
    "encrypted_key_sender = self.encrypt_key(key, sender_key)\n",
    "encrypted_key_recipient = self.encrypt_key(key, recipient_key)\n",
    "return encrypted_key_sender, encrypted_key_recipient"
   ]
  },
  {
   "cell_type": "code",
   "execution_count": null,
   "metadata": {},
   "outputs": [],
   "source": [
    "key = secrets.token_bytes(16)\n",
    "master_key = secrets.token_bytes(16)\n",
    "\n",
    "print(key, len(key))\n",
    "print(master_key, len(master_key))\n",
    "\n",
    "key = key.hex()\n",
    "print(key, len(key), type(key))\n",
    "\n",
    "master_key = master_key.hex()\n",
    "print(master_key, len(master_key))\n",
    "\n",
    "encryptor = AES.new(bytes.fromhex(master_key), AES.MODE_ECB)\n",
    "encrypted_key = encryptor.encrypt(bytes.fromhex(key))\n",
    "print(encrypted_key, len(encrypted_key))\n",
    "\n",
    "encrypted_key = encrypted_key.hex()\n",
    "print(encrypted_key, len(encrypted_key))\n",
    "\n",
    "decrypted_key = encryptor.decrypt(bytes.fromhex(encrypted_key))\n",
    "print(decrypted_key, len(decrypted_key))\n",
    "\n",
    "decrypted_key = decrypted_key.hex()\n",
    "print(decrypted_key, len(decrypted_key))"
   ]
  },
  {
   "cell_type": "code",
   "execution_count": 237,
   "metadata": {},
   "outputs": [
    {
     "name": "stdout",
     "output_type": "stream",
     "text": [
      "b6319c98ea4b085374e9ba1cab086fd0\n"
     ]
    },
    {
     "ename": "AttributeError",
     "evalue": "'str' object has no attribute 'hex'",
     "output_type": "error",
     "traceback": [
      "\u001b[1;31m---------------------------------------------------------------------------\u001b[0m",
      "\u001b[1;31mAttributeError\u001b[0m                            Traceback (most recent call last)",
      "\u001b[1;32me:\\Desktop\\Mazen\\Education\\Mazen Mostafa - College\\Repos\\Secure-Email-KDS\\testing.ipynb Cell 5\u001b[0m in \u001b[0;36m3\n\u001b[0;32m      <a href='vscode-notebook-cell:/e%3A/Desktop/Mazen/Education/Mazen%20Mostafa%20-%20College/Repos/Secure-Email-KDS/testing.ipynb#X16sZmlsZQ%3D%3D?line=0'>1</a>\u001b[0m \u001b[39mprint\u001b[39m(key)\n\u001b[1;32m----> <a href='vscode-notebook-cell:/e%3A/Desktop/Mazen/Education/Mazen%20Mostafa%20-%20College/Repos/Secure-Email-KDS/testing.ipynb#X16sZmlsZQ%3D%3D?line=2'>3</a>\u001b[0m key \u001b[39m=\u001b[39m key\u001b[39m.\u001b[39;49mhex()\n\u001b[0;32m      <a href='vscode-notebook-cell:/e%3A/Desktop/Mazen/Education/Mazen%20Mostafa%20-%20College/Repos/Secure-Email-KDS/testing.ipynb#X16sZmlsZQ%3D%3D?line=3'>4</a>\u001b[0m \u001b[39mprint\u001b[39m(key, \u001b[39mlen\u001b[39m(key))\n\u001b[0;32m      <a href='vscode-notebook-cell:/e%3A/Desktop/Mazen/Education/Mazen%20Mostafa%20-%20College/Repos/Secure-Email-KDS/testing.ipynb#X16sZmlsZQ%3D%3D?line=5'>6</a>\u001b[0m key \u001b[39m=\u001b[39m \u001b[39mbytes\u001b[39m\u001b[39m.\u001b[39mfromhex(key)\n",
      "\u001b[1;31mAttributeError\u001b[0m: 'str' object has no attribute 'hex'"
     ]
    }
   ],
   "source": [
    "print(key)\n",
    "\n",
    "key = key.hex()\n",
    "print(key, len(key))\n",
    "\n",
    "key = bytes.fromhex(key)\n",
    "print(key, len(key))\n"
   ]
  },
  {
   "cell_type": "code",
   "execution_count": null,
   "metadata": {},
   "outputs": [],
   "source": [
    "key = secrets.token_bytes(16)\n",
    "print(key)\n",
    "master_key = secrets.token_bytes(16)\n",
    "\n",
    "encryptor = AES.new(master_key, AES.MODE_ECB)\n",
    "encrypted_key = encryptor.encrypt(key)\n",
    "\n",
    "encryptor.decrypt(key)"
   ]
  },
  {
   "cell_type": "code",
   "execution_count": null,
   "metadata": {},
   "outputs": [],
   "source": [
    "import random\n",
    "def generate_key():\n",
    "    key = [chr(random.randint(0, 255)) for _ in range(16)]\n",
    "    return key"
   ]
  },
  {
   "cell_type": "code",
   "execution_count": null,
   "metadata": {},
   "outputs": [],
   "source": [
    "key = generate_key()\n",
    "len(key), key"
   ]
  },
  {
   "cell_type": "code",
   "execution_count": 13,
   "metadata": {},
   "outputs": [
    {
     "name": "stdout",
     "output_type": "stream",
     "text": [
      "e21745c4fa8a34f9fc5a536f7d63bb2d\n"
     ]
    }
   ],
   "source": [
    "test = b'\\xe2\\x17E\\xc4\\xfa\\x8a4\\xf9\\xfcZSo}c\\xbb-'\n",
    "\n",
    "test =test.hex()\n",
    "\n",
    "print(test)"
   ]
  },
  {
   "cell_type": "code",
   "execution_count": 11,
   "metadata": {},
   "outputs": [
    {
     "name": "stdout",
     "output_type": "stream",
     "text": [
      "b'Hello, World'\n"
     ]
    }
   ],
   "source": [
    "bytes1 = b'Hello'\n",
    "bytes2 = b', '\n",
    "bytes3 = b'World'\n",
    "concatenated_bytes = bytes1 + bytes2 + bytes3\n",
    "print(concatenated_bytes)"
   ]
  },
  {
   "cell_type": "code",
   "execution_count": 17,
   "metadata": {},
   "outputs": [],
   "source": [
    "def decrypt_key(encrypted_key, master_key):\n",
    "    decryptor = AES.new(bytes.fromhex(master_key), AES.MODE_ECB)\n",
    "    key = decryptor.decrypt(bytes.fromhex(encrypted_key))\n",
    "    return key.hex()"
   ]
  },
  {
   "cell_type": "code",
   "execution_count": 25,
   "metadata": {},
   "outputs": [
    {
     "name": "stdout",
     "output_type": "stream",
     "text": [
      "THANK GOD, GO PRAY FAJR AT 4:15AM 24/05/23  while you can.\n",
      "Thank god, hope you find this message well and everything is alright.\n",
      "\n"
     ]
    }
   ],
   "source": [
    "from Crypto.Util.Padding import pad, unpad\n",
    "from Crypto.Cipher import AES\n",
    "\n",
    "km_b= '5b8a9772e74decf4067b062c2c94311e'\n",
    "encrypted_msg = 'c222dc6f4d15510561985cf8bd050a94d4b65883f7c90fb7debe9ba912626dcd7623fc7e4b5f33828bdfc842bd3bbcba7ee83e988cc4ac7b143a46694c49bd865dabee1c9cedc94411f3a1859dddace533219e80c34a1201e28506a4276687b90edb6b6d1c27e286e1daf35fb60db547008231bce9411201c5f113a27196e1762177bbdc2265066a51883ce1dae3e2b3'\n",
    "ks_b = 'b310c8d0414ccee844d380124179c750'\n",
    "\n",
    "ks = decrypt_key(ks_b, km_b)\n",
    "\n",
    "decryptor = AES.new(bytes.fromhex(ks), AES.MODE_ECB)\n",
    "decrypted_msg = decryptor.decrypt(bytes.fromhex(encrypted_msg))\n",
    "\n",
    "decrypted_msg = unpad(decrypted_msg, AES.block_size)\n",
    "print(decrypted_msg.decode())"
   ]
  },
  {
   "cell_type": "code",
   "execution_count": null,
   "metadata": {},
   "outputs": [],
   "source": [
    "decrypted_key = encryptor.decrypt(bytes.fromhex(encrypted_key))\n",
    "print(decrypted_key, len(decrypted_key))\n",
    "\n",
    "decrypted_key = decrypted_key.hex()\n",
    "print(decrypted_key, len(decrypted_key))"
   ]
  }
 ],
 "metadata": {
  "kernelspec": {
   "display_name": "Uni",
   "language": "python",
   "name": "python3"
  },
  "language_info": {
   "codemirror_mode": {
    "name": "ipython",
    "version": 3
   },
   "file_extension": ".py",
   "mimetype": "text/x-python",
   "name": "python",
   "nbconvert_exporter": "python",
   "pygments_lexer": "ipython3",
   "version": "3.9.13"
  },
  "orig_nbformat": 4
 },
 "nbformat": 4,
 "nbformat_minor": 2
}
